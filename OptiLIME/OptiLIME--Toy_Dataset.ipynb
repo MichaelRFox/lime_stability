{
 "cells": [
  {
   "cell_type": "markdown",
   "metadata": {},
   "source": [
    "# LIME Experiments on Toy Dataset"
   ]
  },
  {
   "cell_type": "code",
   "execution_count": 1,
   "metadata": {
    "ExecuteTime": {
     "end_time": "2020-06-07T14:11:44.770048Z",
     "start_time": "2020-06-07T14:11:43.455836Z"
    }
   },
   "outputs": [],
   "source": [
    "import numpy as np\n",
    "import matplotlib.pyplot as plt \n",
    "import pandas as pd\n",
    "\n",
    "from sklearn.preprocessing import PolynomialFeatures\n",
    "from sklearn.linear_model import Ridge\n",
    "from sklearn.pipeline import make_pipeline\n",
    "from scipy.optimize import curve_fit\n",
    "from tqdm import tqdm\n",
    "from statistics import mean\n",
    "\n",
    "from stability_utils import Sklearn_Lime, LimeTabularExplainerOvr\n",
    "from utils import bayesian_optimisation\n"
   ]
  },
  {
   "cell_type": "markdown",
   "metadata": {},
   "source": [
    "In the custom script *utils*, bayesian optimization framework is borrowed from [Thomas Huijskens repository](https://github.com/thuijskens/bayesian-optimization)  \n",
    "\n",
    "In the custom script *stability_utils*:  \n",
    "\n",
    "- **LimeTabularExplainerOvr** class (it is a slightly changed implementation of the homonymous one in the *lime-stability* package), in particular addded:  \n",
    "  - penalty parameter to set the size of Ridge penalty $\\lambda$  \n",
    "  - added hooks to obtain the points generated inside LIME, their weights and their prediction made by the Ridge Local Model  \n",
    "  \n",
    "\n",
    "- **Sklearn_Lime**: wrapper of the LimeTabularExplainerOvr class, in a sklearn estimator fashion.  \n",
    "This has been done to allow for easier bayesian search over the kernel width parameter. Sklearn_Lime has additional attribute **maxRsquared**, which implements the idea of OptiLIME: setting a specified level of adherence to balance the trade-off between adherence and stability of the LIME explanations."
   ]
  },
  {
   "cell_type": "code",
   "execution_count": 2,
   "metadata": {
    "ExecuteTime": {
     "end_time": "2020-06-07T14:11:44.777883Z",
     "start_time": "2020-06-07T14:11:44.773702Z"
    }
   },
   "outputs": [],
   "source": [
    "# Disable warnings\n",
    "import warnings\n",
    "warnings.filterwarnings('ignore')"
   ]
  },
  {
   "cell_type": "markdown",
   "metadata": {},
   "source": [
    "Set seed for reproducibilty"
   ]
  },
  {
   "cell_type": "code",
   "execution_count": 3,
   "metadata": {
    "ExecuteTime": {
     "end_time": "2020-06-07T14:11:44.790191Z",
     "start_time": "2020-06-07T14:11:44.780542Z"
    }
   },
   "outputs": [],
   "source": [
    "def set_seed(seed=666):\n",
    "    \"\"\"Define the seed for the randomness of the script\"\"\"\n",
    "    np.random.RandomState(seed)\n",
    "    np.random.seed(seed)\n",
    "    \n",
    "seed = 665\n",
    "set_seed(seed)"
   ]
  },
  {
   "cell_type": "markdown",
   "metadata": {},
   "source": [
    "Plot/Notebook parameters"
   ]
  },
  {
   "cell_type": "code",
   "execution_count": 4,
   "metadata": {
    "ExecuteTime": {
     "end_time": "2020-06-07T14:11:44.803556Z",
     "start_time": "2020-06-07T14:11:44.793164Z"
    }
   },
   "outputs": [],
   "source": [
    "colors = ['teal', 'yellowgreen', 'gold']\n",
    "lw = 2\n",
    "lime_unit = 9"
   ]
  },
  {
   "cell_type": "markdown",
   "metadata": {},
   "source": [
    "# Toy Dataset\n",
    "\n",
    "freely re-adapted from [sklearn - Polynomial Interpolation](https://scikit-learn.org/stable/auto_examples/linear_model/plot_polynomial_interpolation.html)"
   ]
  },
  {
   "cell_type": "markdown",
   "metadata": {},
   "source": [
    "Build the DGP: $f(X) = X * sin(X) + 10$  \n",
    "Generate 100 points on the X range $[0,1]$, and randomly keep only 20 of them  \n",
    "Build a Polynomial Regression model (degree 5) as our ML model"
   ]
  },
  {
   "cell_type": "markdown",
   "metadata": {},
   "source": [
    "## Generate Dataset"
   ]
  },
  {
   "cell_type": "code",
   "execution_count": 5,
   "metadata": {
    "ExecuteTime": {
     "end_time": "2020-06-07T14:11:44.816900Z",
     "start_time": "2020-06-07T14:11:44.805508Z"
    }
   },
   "outputs": [],
   "source": [
    "def f(x):\n",
    "    \"\"\" DGP function\"\"\"\n",
    "    return x * np.sin(x) + 10\n",
    "\n",
    "\n",
    "# generate points used to plot\n",
    "x_plot = np.linspace(0, 10, 100)\n",
    "\n",
    "# generate points and keep a subset of them\n",
    "x = np.linspace(0, 10, 100)\n",
    "rng = np.random.RandomState(0)\n",
    "rng.shuffle(x)\n",
    "x = np.sort(x[:20])\n",
    "y = f(x)\n",
    "\n",
    "# create matrix versions of these arrays\n",
    "X = x[:, np.newaxis]\n",
    "X_plot = x_plot[:, np.newaxis]"
   ]
  },
  {
   "cell_type": "markdown",
   "metadata": {},
   "source": [
    "## Polynomial Regression as my ML model"
   ]
  },
  {
   "cell_type": "code",
   "execution_count": 6,
   "metadata": {
    "ExecuteTime": {
     "end_time": "2020-06-07T14:11:44.830458Z",
     "start_time": "2020-06-07T14:11:44.819338Z"
    },
    "scrolled": true
   },
   "outputs": [],
   "source": [
    "count=1; degree =5\n",
    "pol = make_pipeline(PolynomialFeatures(degree), Ridge())\n",
    "pol.fit(X, y)\n",
    "y_plot_pol = pol.predict(X_plot)\n",
    "y_pol = pol.predict(X)"
   ]
  },
  {
   "cell_type": "code",
   "execution_count": 7,
   "metadata": {
    "ExecuteTime": {
     "end_time": "2020-06-07T14:11:45.667973Z",
     "start_time": "2020-06-07T14:11:44.834021Z"
    },
    "scrolled": true
   },
   "outputs": [
    {
     "data": {
      "image/png": "[encoded data removed]",
      "text/plain": [
       "<Figure size 432x288 with 1 Axes>"
      ]
     },
     "metadata": {
      "needs_background": "light"
     },
     "output_type": "display_data"
    }
   ],
   "source": [
    "plt.plot(x_plot, f(x_plot), color='cornflowerblue', linewidth=lw,\n",
    "         label=\"ground truth\")\n",
    "plt.scatter(x, y, color='navy', s=30, marker='o', label=\"training points\")\n",
    "plt.scatter(X[lime_unit], y[lime_unit], color='red',\n",
    "            s=50, marker='o', label=\"reference point\")\n",
    "plt.plot(x_plot, y_plot_pol, color=colors[1], linewidth=lw,\n",
    "         label=\"Polynomial degree %d\" % degree)\n",
    "plt.xlabel(\"X\")\n",
    "plt.ylabel(\"Y\")\n",
    "plt.legend(loc='best')\n",
    "# filename = \"../../Paper_Latex/images/Toy_Sin/Toy_Dataset.png\"\n",
    "# plt.savefig(filename,dpi=300,bbox_inches='tight')\n",
    "plt.show()"
   ]
  },
  {
   "cell_type": "markdown",
   "metadata": {},
   "source": [
    "# LIME on Toy Dataset"
   ]
  },
  {
   "cell_type": "markdown",
   "metadata": {
    "ExecuteTime": {
     "end_time": "2020-05-16T14:34:01.298171Z",
     "start_time": "2020-05-16T14:34:01.294761Z"
    }
   },
   "source": [
    "### Parameters"
   ]
  },
  {
   "cell_type": "code",
   "execution_count": 8,
   "metadata": {
    "ExecuteTime": {
     "end_time": "2020-06-07T14:11:45.673494Z",
     "start_time": "2020-06-07T14:11:45.670718Z"
    }
   },
   "outputs": [],
   "source": [
    "kernel_width=0.01\n",
    "model = pol\n",
    "lime_unit = 9"
   ]
  },
  {
   "cell_type": "markdown",
   "metadata": {},
   "source": [
    "In Regression, Lime gives two coefficients for each single variable (same intensity, opposite sign).  \n",
    "The one returned by default by the *as_list()* method is the coefficient with dictionary key:1  \n",
    "\n",
    "LIME performs standardization internally: the generated points are standardized and the LIME coefficients are the ones of the standardized dataset.  \n",
    "To obtain the LIME line on the plot, we need to standardize the $x$ values before drawing the line.\n",
    "\n",
    "\n",
    "Nel pacchetto LIME che ho caricato per fare questo notebook, ho tolto il coefficiente $\\alpha$ della Ridge, perchè quando la retta avrebbe coefficiente molto grande in valore assoluto (quando sono in un punto molto pendente), allora il coefficiente Ridge tende ad abbassarne il valore a causa della  penalità che impone al coefficiente (alla loro somma di quadrati).  \n",
    "in generale il coefficiente Ridge fa si che la retta non si trovi esattamente dove dovrebbe essere (e quindi che non corrisponda esattamente alla tangente), però da piu stabilità alle stime. **Adesso ho rimesso $\\alpha=1$, cosi sto usando esattamente l'implementazione LIME normale.**   "
   ]
  },
  {
   "cell_type": "code",
   "execution_count": 9,
   "metadata": {
    "ExecuteTime": {
     "end_time": "2020-06-07T14:11:45.686914Z",
     "start_time": "2020-06-07T14:11:45.675801Z"
    }
   },
   "outputs": [],
   "source": [
    "def lime_line(lime_exp,x_plot):\n",
    "    \"\"\"Function to draw the right LIME line on the plot\"\"\"\n",
    "    x_plot_std = (x_plot-X.mean())/X.std()\n",
    "    lime_plot = lime_exp.intercept[0] + lime_exp.local_exp[1][0][1]*x_plot_std\n",
    "    return lime_plot\n",
    "\n"
   ]
  },
  {
   "cell_type": "markdown",
   "metadata": {},
   "source": [
    "## Kernel Width defines Locality"
   ]
  },
  {
   "cell_type": "markdown",
   "metadata": {},
   "source": [
    "We already use Ridge Penalty $\\lambda=0$ (in our LIME implementation is the parameter *penalty*), since it is the correct specification of the Local Model (**see [Ridge Penalty Section](#Ridge_Penalty)**)"
   ]
  },
  {
   "cell_type": "code",
   "execution_count": 10,
   "metadata": {
    "ExecuteTime": {
     "end_time": "2020-06-07T14:11:45.697330Z",
     "start_time": "2020-06-07T14:11:45.688351Z"
    }
   },
   "outputs": [],
   "source": [
    "kernel_width_vector = [[0.1,0.3],[0.5,0.7]]"
   ]
  },
  {
   "cell_type": "code",
   "execution_count": 11,
   "metadata": {
    "ExecuteTime": {
     "end_time": "2020-06-07T14:11:49.661292Z",
     "start_time": "2020-06-07T14:11:45.699913Z"
    },
    "scrolled": true
   },
   "outputs": [
    {
     "data": {
      "image/png": "[encoded data removed]",
      "text/plain": [
       "<Figure size 432x288 with 4 Axes>"
      ]
     },
     "metadata": {
      "needs_background": "light"
     },
     "output_type": "display_data"
    }
   ],
   "source": [
    "fig, ax = plt.subplots(2, 2, sharex='col', sharey='row')\n",
    "custom_ylim = (4,13)\n",
    "custom_xlim= (0,7)\n",
    "plt.setp(ax, xlim=custom_xlim, ylim=custom_ylim)\n",
    "\n",
    "for i,kw in enumerate(kernel_width_vector):\n",
    "    for j,kernel_width in enumerate(kw):\n",
    "\n",
    "        lime_explainer = LimeTabularExplainerOvr(X,\n",
    "                                                 mode=\"regression\",\n",
    "                                                 verbose=False,\n",
    "                                                 discretize_continuous=False,\n",
    "                                                 kernel_width=kernel_width,\n",
    "                                                 sample_around_instance=True,\n",
    "                                                 penalty=0,\n",
    "                                                 random_state=seed\n",
    "                                                 )\n",
    "        lime_exp = lime_explainer.explain_instance(X[lime_unit],model.predict)\n",
    "        weights = lime_explainer.base.weights\n",
    "        rescaled_weights = 20* (weights- weights.min()) /(weights.max()-weights.min())\n",
    "        lime_points = pd.concat([pd.DataFrame(lime_explainer.data,columns=[\"X\"]),pd.DataFrame(lime_explainer.lime_preds,columns=[\"Y\"]),\n",
    "                                 pd.DataFrame(rescaled_weights,columns=[\"weights\"])],axis=1)\n",
    "        lime_plot = lime_line(lime_exp,x_plot)\n",
    "\n",
    "        ax[i, j].plot(x_plot, y_plot_pol, color=\"cornflowerblue\", linewidth=1,\n",
    "             label=\"ML - Polynomial degree %d\" % degree)\n",
    "        ax[i, j].scatter(x, y, color='navy', s=30, marker='o', label=\"training points\")\n",
    "        ax[i, j].plot(x_plot,lime_plot,label=\"LIME line\",color=\"red\",linewidth=1)\n",
    "        ax[i, j].scatter(lime_points.X,lime_points.Y,color='yellowgreen', s=lime_points.weights, marker='o', label=\"LIME sampled points\")\n",
    "        ax[i, j].scatter(X[lime_unit],y_pol[lime_unit],color='red', s=50, marker='o')\n",
    "        ax[i, j].title.set_text(r\"Kernel Width:{}, $R^2$:{}\".format(kernel_width,round(lime_exp.score,2)))\n",
    "\n",
    "        \n",
    "fig.tight_layout(pad=1)\n",
    "plt.show()\n",
    "\n",
    "# fig.savefig(\"../../Paper_Latex/images/Toy_Sin/kernel_width_grid.png\",dpi=300,bbox_inches='tight')"
   ]
  },
  {
   "cell_type": "markdown",
   "metadata": {},
   "source": [
    "<a id='Ridge_Penalty'></a>\n"
   ]
  },
  {
   "cell_type": "markdown",
   "metadata": {},
   "source": [
    "## Ridge Penalty is harmful for LIME"
   ]
  },
  {
   "cell_type": "code",
   "execution_count": 12,
   "metadata": {
    "ExecuteTime": {
     "end_time": "2020-06-07T14:11:49.667917Z",
     "start_time": "2020-06-07T14:11:49.662708Z"
    }
   },
   "outputs": [],
   "source": [
    "kernel_width_vector = [[0.01,0.03],[0.05,0.07]]\n",
    "ridge_penalty_vector = [0,1]"
   ]
  },
  {
   "cell_type": "code",
   "execution_count": 13,
   "metadata": {
    "ExecuteTime": {
     "end_time": "2020-06-07T14:11:55.941893Z",
     "start_time": "2020-06-07T14:11:49.672588Z"
    },
    "scrolled": true
   },
   "outputs": [
    {
     "data": {
      "image/png": "[encoded data removed]",
      "text/plain": [
       "<Figure size 432x288 with 4 Axes>"
      ]
     },
     "metadata": {
      "needs_background": "light"
     },
     "output_type": "display_data"
    },
    {
     "data": {
      "image/png": "[encoded data removed]",
      "text/plain": [
       "<Figure size 432x288 with 4 Axes>"
      ]
     },
     "metadata": {
      "needs_background": "light"
     },
     "output_type": "display_data"
    }
   ],
   "source": [
    "for ridge_penalty in ridge_penalty_vector:\n",
    "    fig, ax = plt.subplots(2, 2, sharex='col', sharey='row')\n",
    "    custom_ylim = (4, 13)\n",
    "    custom_xlim = (0, 7)\n",
    "    plt.setp(ax, xlim=custom_xlim, ylim=custom_ylim)\n",
    "\n",
    "    for i, kw in enumerate(kernel_width_vector):\n",
    "        for j, kernel_width in enumerate(kw):\n",
    "\n",
    "            lime_explainer = LimeTabularExplainerOvr(X,\n",
    "                                                     mode=\"regression\",\n",
    "                                                     verbose=False,\n",
    "                                                     discretize_continuous=False,\n",
    "                                                     kernel_width=kernel_width,\n",
    "                                                     sample_around_instance=True,\n",
    "                                                     penalty=ridge_penalty,\n",
    "                                                     random_state=seed\n",
    "                                                     )\n",
    "            lime_exp = lime_explainer.explain_instance(\n",
    "                X[lime_unit], model.predict)\n",
    "            weights = lime_explainer.base.weights\n",
    "            rescaled_weights = 20 * \\\n",
    "                (weights - weights.min()) / (weights.max()-weights.min())\n",
    "            lime_points = pd.concat([pd.DataFrame(lime_explainer.data, columns=[\"X\"]), \n",
    "                                     pd.DataFrame(lime_explainer.lime_preds, columns=[\"Y\"]),\n",
    "                                     pd.DataFrame(rescaled_weights, columns=[\"weights\"])], axis=1)\n",
    "            lime_plot = lime_line(lime_exp, x_plot)\n",
    "\n",
    "            ax[i, j].plot(x_plot, y_plot_pol, color=\"cornflowerblue\", linewidth=1,\n",
    "                          label=\"ML - Polynomial degree %d\" % degree)\n",
    "            ax[i, j].scatter(x, y, color='navy', s=30,\n",
    "                             marker='o', label=\"training points\")\n",
    "            ax[i, j].plot(x_plot, lime_plot, label=\"LIME line\",\n",
    "                          color=\"red\", linewidth=1)\n",
    "            ax[i, j].scatter(lime_points.X, lime_points.Y, color='yellowgreen',\n",
    "                             s=lime_points.weights, marker='o', label=\"LIME sampled points\")\n",
    "            ax[i, j].scatter(X[lime_unit], y_pol[lime_unit],\n",
    "                             color='red', s=50, marker='o')\n",
    "            ax[i, j].title.set_text(r\"Kernel Width:{}, $R^2$:{}\".format(\n",
    "                kernel_width, round(lime_exp.score, 2)))\n",
    "\n",
    "    fig.tight_layout(pad=1)\n",
    "    plt.show()\n",
    "    # filename = \"../../Paper_Latex/images/Toy_Sin/Ridge\"+str(ridge_penalty)+\"_grid.png\"\n",
    "    # fig.savefig(filename,dpi=300,bbox_inches='tight')"
   ]
  },
  {
   "cell_type": "markdown",
   "metadata": {},
   "source": [
    "## Relationship $R^2$, CSI, kernel_width"
   ]
  },
  {
   "cell_type": "markdown",
   "metadata": {},
   "source": [
    "**Generic Logistic Function**:  \n",
    "References: [useful blog](http://www.indianalytics.de/?p=41), [StackExchange question on Implementation](https://stackoverflow.com/questions/60160803/scipy-optimize-curve-fit-for-logistic-function)  \n",
    "\n",
    "$f(x) = \\frac{L}{1+\\exp{-k(x-x_0)}}+b$  \n",
    "\n",
    "with:  \n",
    "\n",
    "- $x_{0}$ = the $x$ value of the logistic's saddle point\n",
    "- $L$ = logistic upper bound\n",
    "- $k$  = logistic growth rate (steepness of the curve)\n",
    "- $b$ = logistic lower bound \n",
    "\n",
    "Logistic is able to find monotonous non-linear relationships in the data\n"
   ]
  },
  {
   "cell_type": "code",
   "execution_count": 14,
   "metadata": {
    "ExecuteTime": {
     "end_time": "2020-06-07T14:11:55.953277Z",
     "start_time": "2020-06-07T14:11:55.945424Z"
    }
   },
   "outputs": [],
   "source": [
    "def logistic(x, L ,x0, k, b):\n",
    "    \"\"\"Fits generic Logistic Function through a set of 1d points\"\"\"\n",
    "    y = L / (1 + np.exp(-k*(x-x0)))+b\n",
    "    return (y)\n",
    "\n",
    "\n",
    "def mae(y,y_pred):\n",
    "    return np.abs(y-y_pred).mean()"
   ]
  },
  {
   "cell_type": "markdown",
   "metadata": {},
   "source": [
    "Create a grid of kernel width values and evaluate both CSI and $R^2$"
   ]
  },
  {
   "cell_type": "code",
   "execution_count": 15,
   "metadata": {
    "ExecuteTime": {
     "end_time": "2020-06-07T14:11:55.980799Z",
     "start_time": "2020-06-07T14:11:55.955828Z"
    }
   },
   "outputs": [
    {
     "data": {
      "text/plain": [
       "119"
      ]
     },
     "execution_count": 15,
     "metadata": {},
     "output_type": "execute_result"
    }
   ],
   "source": [
    "kernel_width_vector = list(np.arange(0.01,1.2,0.01).round(2))\n",
    "len(kernel_width_vector)"
   ]
  },
  {
   "cell_type": "markdown",
   "metadata": {},
   "source": [
    "### Graphical evaluation (on Unit 9)"
   ]
  },
  {
   "cell_type": "code",
   "execution_count": 16,
   "metadata": {
    "ExecuteTime": {
     "end_time": "2020-06-07T14:13:27.169453Z",
     "start_time": "2020-06-07T14:11:55.983954Z"
    },
    "scrolled": true
   },
   "outputs": [
    {
     "name": "stderr",
     "output_type": "stream",
     "text": [
      "100%|██████████| 119/119 [01:31<00:00,  1.31it/s]\n"
     ]
    }
   ],
   "source": [
    "csi_list = []\n",
    "vsi_list = []\n",
    "R_squared_list = []\n",
    "for kernel_width in tqdm(kernel_width_vector):\n",
    "    lime_explainer = LimeTabularExplainerOvr(X,\n",
    "                                             mode=\"regression\",\n",
    "                                             verbose=False,\n",
    "                                             discretize_continuous=False,\n",
    "                                             kernel_width=kernel_width,\n",
    "                                             sample_around_instance=True,\n",
    "                                             penalty=0,\n",
    "                                             random_state=seed)\n",
    "    csi, vsi,_ = lime_explainer.check_stability(X[lime_unit, ], model.predict)\n",
    "    lime_exp = lime_explainer.explain_instance(X[lime_unit], model.predict)\n",
    "    csi_list.append(csi)\n",
    "    vsi_list.append(vsi)\n",
    "    R_squared_list.append(lime_exp.score)\n",
    "    # print(\"CSI: {}\".format(csi))\n",
    "    # print(\"VSI: {}\".format(vsi))\n",
    "    # print(\"R squared: {}\".format(lime_exp.score))\n",
    "    # print(\"kernel width: {}\".format(kernel_width))\n",
    "csi_list = [csi/100 for csi in csi_list]\n",
    "vsi_list = [vsi/100 for vsi in vsi_list]"
   ]
  },
  {
   "cell_type": "code",
   "execution_count": 17,
   "metadata": {
    "ExecuteTime": {
     "end_time": "2020-06-07T14:13:27.931914Z",
     "start_time": "2020-06-07T14:13:27.176295Z"
    },
    "scrolled": true
   },
   "outputs": [
    {
     "name": "stdout",
     "output_type": "stream",
     "text": [
      "R_growth_rate: -10.784189109939787\n",
      "R_mae_results: 0.005165752524745642\n",
      "CSI_growth_rate: 7.203447628195789\n",
      "CSI_mae_results: 0.025938005698167673\n"
     ]
    },
    {
     "data": {
      "image/png": "[encoded data removed]",
      "text/plain": [
       "<Figure size 432x288 with 1 Axes>"
      ]
     },
     "metadata": {
      "needs_background": "light"
     },
     "output_type": "display_data"
    }
   ],
   "source": [
    "p0 = [1, np.median(kernel_width_vector),1,0] # this is a mandatory initial guess\n",
    "poptR, _ = curve_fit(logistic, kernel_width_vector, R_squared_list, p0, method='lm')\n",
    "poptCSI, _ = curve_fit(logistic, kernel_width_vector, csi_list, p0, method='lm')\n",
    "R_pred = logistic(kernel_width_vector,*poptR)\n",
    "CSI_pred = logistic(kernel_width_vector,*poptCSI)\n",
    "\n",
    "R_growth_rate = poptR[2]\n",
    "R_mae_results = mae(R_squared_list,R_pred)\n",
    "CSI_growth_rate = poptCSI[2]\n",
    "CSI_mae_results = mae(csi_list,CSI_pred)\n",
    "\n",
    "#logistic plots\n",
    "kw = np.linspace(0, 1.2, 1000)\n",
    "yR = logistic(kw, *poptR)\n",
    "yCSI = logistic(kw, *poptCSI)\n",
    "\n",
    "plt.plot(kernel_width_vector, R_squared_list, 'o', label=r'$R^2$',c=colors[0])\n",
    "plt.xlabel(\"Kernel Width\")\n",
    "plt.plot(kw,yR, label=r'Logistic $R^2$',c=colors[0])\n",
    "plt.plot(kernel_width_vector, csi_list, 'o', label='CSI',c=colors[1])\n",
    "plt.plot(kw,yCSI, label='Logistic CSI',c=colors[1])\n",
    "plt.plot([], [], ' ', label=r\"MAE $R^2$ = {}\".format(round(R_mae_results,2)))\n",
    "plt.plot([], [], ' ', label=\"MAE CSI = {}\".format(round(CSI_mae_results,2)))\n",
    "\n",
    "plt.legend(loc=\"best\")\n",
    "# plt.savefig(\"../../Paper_Latex/images/Toy_Sin/trend_R_CSI.png\",dpi=300, bbox_inches='tight')\n",
    "\n",
    "print(\"R_growth_rate: {}\".format(R_growth_rate))\n",
    "print(\"R_mae_results: {}\".format(R_mae_results))\n",
    "print(\"CSI_growth_rate: {}\".format(CSI_growth_rate))\n",
    "print(\"CSI_mae_results: {}\".format(CSI_mae_results))"
   ]
  },
  {
   "cell_type": "markdown",
   "metadata": {},
   "source": [
    "### Evaluation on all the points in the Dataset \n",
    "Compare the MAE results and the $k$ growth rate values of the logistic functions, estimated per each point"
   ]
  },
  {
   "cell_type": "code",
   "execution_count": 18,
   "metadata": {
    "ExecuteTime": {
     "end_time": "2020-06-07T14:40:06.233194Z",
     "start_time": "2020-06-07T14:13:27.933673Z"
    }
   },
   "outputs": [
    {
     "name": "stderr",
     "output_type": "stream",
     "text": [
      "100%|██████████| 20/20 [26:38<00:00, 79.91s/it]\n"
     ]
    }
   ],
   "source": [
    "experiment_explanations = []\n",
    "experiment_data = pd.DataFrame()\n",
    "\n",
    "for i in tqdm(range(len(x))):\n",
    "    unit_explanations = []\n",
    "    r_quadro = []\n",
    "    csi_list = []\n",
    "    vsi_list = []\n",
    "    for kernel_width in kernel_width_vector:\n",
    "\n",
    "        lime_explainer = LimeTabularExplainerOvr(X,\n",
    "                                                 mode=\"regression\",\n",
    "                                                 verbose=False,\n",
    "                                                 discretize_continuous=False,\n",
    "                                                 kernel_width=kernel_width,\n",
    "                                                 sample_around_instance=True,\n",
    "                                                 penalty=0)\n",
    "        csi, vsi,_ = lime_explainer.check_stability(\n",
    "            X[lime_unit, ], model.predict)\n",
    "        lime_exp = lime_explainer.explain_instance(X[lime_unit], model.predict)\n",
    "        csi_list.append(csi)\n",
    "        vsi_list.append(vsi)\n",
    "        r_quadro.append(lime_exp.score)\n",
    "        unit_explanations.append(lime_exp)\n",
    "\n",
    "    csi_list = [csi/100 for csi in csi_list]\n",
    "    vsi_list = [vsi/100 for vsi in vsi_list]\n",
    "\n",
    "    experiment_explanations.append(unit_explanations)\n",
    "\n",
    "    single_unit = pd.concat([\n",
    "        pd.Series(np.repeat(i, len(kernel_width_vector)), name=\"Unit\"),\n",
    "        pd.Series(kernel_width_vector, name=\"kernel_width\"),\n",
    "        pd.Series(r_quadro, name=\"Rsquared\"),\n",
    "        pd.Series(csi_list, name=\"CSI\"),\n",
    "        pd.Series(vsi_list, name=\"VSI\")], axis=1)\n",
    "\n",
    "    experiment_data = pd.concat([experiment_data, single_unit])\n",
    "\n",
    "experiment_data.reset_index(inplace=True)"
   ]
  },
  {
   "cell_type": "code",
   "execution_count": 19,
   "metadata": {
    "ExecuteTime": {
     "end_time": "2020-06-07T14:40:08.524097Z",
     "start_time": "2020-06-07T14:40:06.241191Z"
    }
   },
   "outputs": [
    {
     "name": "stdout",
     "output_type": "stream",
     "text": [
      "mean of $R^2$ MAE: 0.006441924973434081\n",
      "max of $R^2$ growth rate: -10.219521752564114\n",
      "mean of CSI MAE: 0.04122382839913258\n",
      "min of CSI growth rate: 7.754350421848134\n"
     ]
    }
   ],
   "source": [
    "R_mae_results = []; CSI_mae_results = []\n",
    "R_growth_rate = []; CSI_growth_rate = []\n",
    "for unit in set(experiment_data.Unit):\n",
    "    b = experiment_data.loc[experiment_data.Unit == unit,:]\n",
    "\n",
    "    p0 = [1, np.median(b.kernel_width),1,0] # this is a mandatory initial guess\n",
    "    poptR, _ = curve_fit(logistic, b.kernel_width, b.Rsquared, p0, method='lm')\n",
    "    poptCSI, _ = curve_fit(logistic, b.kernel_width, b.CSI, p0, method='lm')\n",
    "    R_pred = logistic(b.kernel_width,*poptR)\n",
    "    CSI_pred = logistic(b.kernel_width,*poptCSI)\n",
    "\n",
    "    R_growth_rate.append(poptR[2])\n",
    "    R_mae_results.append(mae(b.Rsquared,R_pred))\n",
    "    CSI_growth_rate.append(poptCSI[2])\n",
    "    CSI_mae_results.append(mae(b.CSI,CSI_pred))\n",
    "\n",
    "print(r\"mean of $R^2$ MAE: {}\".format(mean(R_mae_results)))\n",
    "print(r\"max of $R^2$ growth rate: {}\".format(max(R_growth_rate)))\n",
    "print(\"mean of CSI MAE: {}\".format(mean(CSI_mae_results)))\n",
    "print(\"min of CSI growth rate: {}\".format(min(CSI_growth_rate)))\n"
   ]
  },
  {
   "cell_type": "markdown",
   "metadata": {
    "ExecuteTime": {
     "end_time": "2020-06-04T16:00:35.792020Z",
     "start_time": "2020-06-04T16:00:35.789328Z"
    }
   },
   "source": [
    "# OptiLIME on Unit 9"
   ]
  },
  {
   "cell_type": "code",
   "execution_count": 20,
   "metadata": {
    "ExecuteTime": {
     "end_time": "2020-06-07T14:40:08.534521Z",
     "start_time": "2020-06-07T14:40:08.526157Z"
    }
   },
   "outputs": [],
   "source": [
    "maxRsquared = 0.9"
   ]
  },
  {
   "cell_type": "code",
   "execution_count": 21,
   "metadata": {
    "ExecuteTime": {
     "end_time": "2020-06-07T14:40:27.194729Z",
     "start_time": "2020-06-07T14:40:08.536244Z"
    },
    "scrolled": true
   },
   "outputs": [],
   "source": [
    "def OptiLIME_loss(kernel_width):\n",
    "    single_lime = Sklearn_Lime(mode=\"regression\",\n",
    "                               verbose=False,\n",
    "                               discretize_continuous=False,\n",
    "                               kernel_width=kernel_width,\n",
    "                               sample_around_instance=True,\n",
    "                               penalty=0,\n",
    "                               epsilon=None,\n",
    "                               num_samples=5000,\n",
    "                               maxRsquared=maxRsquared,\n",
    "                               random_state=seed\n",
    "                              )\n",
    "    single_lime.fit(X)\n",
    "    return single_lime.score(X[lime_unit],model.predict)\n",
    "\n",
    "bounds = np.array([0.01, 1.2]).reshape(1, -1)\n",
    "\n",
    "kw, R_squared = bayesian_optimisation(n_iters=40,\n",
    "                               sample_loss=OptiLIME_loss,\n",
    "                               bounds=bounds,\n",
    "                               n_pre_samples=20,\n",
    "                               random_search=False)\n",
    "\n",
    "bayes_results = pd.concat(\n",
    "    [pd.DataFrame(kw, columns=[\"kernel_width\"]), \n",
    "     pd.DataFrame(R_squared, columns=[\"R_squared\"])],\n",
    "    axis=1)"
   ]
  },
  {
   "cell_type": "code",
   "execution_count": 22,
   "metadata": {
    "ExecuteTime": {
     "end_time": "2020-06-07T14:40:27.209627Z",
     "start_time": "2020-06-07T14:40:27.197014Z"
    },
    "scrolled": true
   },
   "outputs": [
    {
     "name": "stdout",
     "output_type": "stream",
     "text": [
      "Best Width: 0.29632932676989265\n",
      "Best Rquadro: 0.8986129759945973\n"
     ]
    }
   ],
   "source": [
    "best_width = float(kw[R_squared.argmax()])\n",
    "best_Rquadro = R_squared.max()\n",
    "print((\"Best Width: {}\".format(best_width)))\n",
    "print((\"Best Rquadro: {}\".format(best_Rquadro)))"
   ]
  },
  {
   "cell_type": "markdown",
   "metadata": {},
   "source": [
    "Evaluate the CSI value for the points sampled in Bayesian Optimization"
   ]
  },
  {
   "cell_type": "code",
   "execution_count": 23,
   "metadata": {
    "ExecuteTime": {
     "end_time": "2020-06-07T14:41:02.042340Z",
     "start_time": "2020-06-07T14:40:27.221594Z"
    }
   },
   "outputs": [
    {
     "name": "stderr",
     "output_type": "stream",
     "text": [
      "100%|██████████| 60/60 [00:34<00:00,  1.72it/s]\n"
     ]
    }
   ],
   "source": [
    "csi_vals = []\n",
    "\n",
    "for kernel_width in tqdm(bayes_results.kernel_width):\n",
    "    \n",
    "    single_lime = Sklearn_Lime(mode=\"regression\",\n",
    "                               verbose=False,\n",
    "                               discretize_continuous=False,\n",
    "                               kernel_width=kernel_width,\n",
    "                               sample_around_instance=True,\n",
    "                               penalty=0,\n",
    "                               epsilon=None,\n",
    "                               num_samples=5000,\n",
    "                               maxRsquared=maxRsquared,\n",
    "                               random_state=seed\n",
    "                              )\n",
    "    single_lime.fit(X)\n",
    "    csi,_,_ =  single_lime.my_lime.check_stability(X[lime_unit,],model.predict)\n",
    "    csi_vals.append(csi)\n",
    "csi_vals = [csi/100 for csi in csi_vals]"
   ]
  },
  {
   "cell_type": "code",
   "execution_count": 24,
   "metadata": {
    "ExecuteTime": {
     "end_time": "2020-06-07T14:41:02.135134Z",
     "start_time": "2020-06-07T14:41:02.046951Z"
    }
   },
   "outputs": [
    {
     "data": {
      "text/html": [
       "<div>\n",
       "<style scoped>\n",
       "    .dataframe tbody tr th:only-of-type {\n",
       "        vertical-align: middle;\n",
       "    }\n",
       "\n",
       "    .dataframe tbody tr th {\n",
       "        vertical-align: top;\n",
       "    }\n",
       "\n",
       "    .dataframe thead th {\n",
       "        text-align: right;\n",
       "    }\n",
       "</style>\n",
       "<table border=\"1\" class=\"dataframe\">\n",
       "  <thead>\n",
       "    <tr style=\"text-align: right;\">\n",
       "      <th></th>\n",
       "      <th>kernel_width</th>\n",
       "      <th>R_squared</th>\n",
       "      <th>csi</th>\n",
       "    </tr>\n",
       "  </thead>\n",
       "  <tbody>\n",
       "    <tr>\n",
       "      <th>10</th>\n",
       "      <td>0.011546</td>\n",
       "      <td>0.800001</td>\n",
       "      <td>0.0444</td>\n",
       "    </tr>\n",
       "    <tr>\n",
       "      <th>4</th>\n",
       "      <td>0.056738</td>\n",
       "      <td>0.800151</td>\n",
       "      <td>0.0667</td>\n",
       "    </tr>\n",
       "    <tr>\n",
       "      <th>2</th>\n",
       "      <td>0.123212</td>\n",
       "      <td>0.802903</td>\n",
       "      <td>0.2667</td>\n",
       "    </tr>\n",
       "    <tr>\n",
       "      <th>5</th>\n",
       "      <td>0.196059</td>\n",
       "      <td>0.819455</td>\n",
       "      <td>0.5111</td>\n",
       "    </tr>\n",
       "    <tr>\n",
       "      <th>3</th>\n",
       "      <td>0.245959</td>\n",
       "      <td>0.848488</td>\n",
       "      <td>0.6000</td>\n",
       "    </tr>\n",
       "  </tbody>\n",
       "</table>\n",
       "</div>"
      ],
      "text/plain": [
       "    kernel_width  R_squared     csi\n",
       "10      0.011546   0.800001  0.0444\n",
       "4       0.056738   0.800151  0.0667\n",
       "2       0.123212   0.802903  0.2667\n",
       "5       0.196059   0.819455  0.5111\n",
       "3       0.245959   0.848488  0.6000"
      ]
     },
     "execution_count": 24,
     "metadata": {},
     "output_type": "execute_result"
    }
   ],
   "source": [
    "bayes_results = pd.concat([bayes_results,\n",
    "                           pd.DataFrame(csi_vals,columns=[\"csi\"])],\n",
    "                          axis=1)\n",
    "bayes_results.sort_values(\"kernel_width\", inplace=True)\n",
    "bayes_results.head()"
   ]
  },
  {
   "cell_type": "code",
   "execution_count": 25,
   "metadata": {
    "ExecuteTime": {
     "end_time": "2020-06-07T14:41:02.910948Z",
     "start_time": "2020-06-07T14:41:02.137152Z"
    }
   },
   "outputs": [
    {
     "data": {
      "image/png": "[encoded data removed]",
      "text/plain": [
       "<Figure size 432x288 with 1 Axes>"
      ]
     },
     "metadata": {
      "needs_background": "light"
     },
     "output_type": "display_data"
    }
   ],
   "source": [
    "plt.scatter(bayes_results.kernel_width,bayes_results.csi,label=r'$CSI$',color = colors[1])\n",
    "plt.scatter(bayes_results.kernel_width,bayes_results.R_squared,label=r'$l(\\tilde{R}^2,kw)$',color = colors[0])\n",
    "plt.scatter(best_width,best_Rquadro,c = \"red\", s=30,label=\"Best kernel width:{}\".format(round(best_width,3)))\n",
    "plt.plot([], [], ' ', label=r'$\\tilde{R}^2 = 0.9$')\n",
    "\n",
    "plt.xlabel(\"kernel width\")\n",
    "plt.legend(loc='best')\n",
    "\n",
    "# filename = \"../../Paper_Latex/images/Toy_Sin/Bayes_Search.png\" \n",
    "# plt.savefig(filename,dpi=300,bbox_inches='tight')\n",
    "\n",
    "plt.show()\n"
   ]
  },
  {
   "cell_type": "code",
   "execution_count": null,
   "metadata": {},
   "outputs": [],
   "source": []
  }
 ],
 "metadata": {
  "kernelspec": {
   "display_name": "CIKM2020--Py3.7",
   "language": "python",
   "name": "cikm2020--py3.7"
  },
  "language_info": {
   "codemirror_mode": {
    "name": "ipython",
    "version": 3
   },
   "file_extension": ".py",
   "mimetype": "text/x-python",
   "name": "python",
   "nbconvert_exporter": "python",
   "pygments_lexer": "ipython3",
   "version": "3.7.7"
  },
  "latex_envs": {
   "LaTeX_envs_menu_present": true,
   "autoclose": false,
   "autocomplete": true,
   "bibliofile": "biblio.bib",
   "cite_by": "apalike",
   "current_citInitial": 1,
   "eqLabelWithNumbers": true,
   "eqNumInitial": 1,
   "hotkeys": {
    "equation": "Ctrl-E",
    "itemize": "Ctrl-I"
   },
   "labels_anchors": false,
   "latex_user_defs": false,
   "report_style_numbering": false,
   "user_envs_cfg": false
  },
  "toc": {
   "base_numbering": 1,
   "nav_menu": {},
   "number_sections": true,
   "sideBar": true,
   "skip_h1_title": false,
   "title_cell": "Table of Contents",
   "title_sidebar": "Contents",
   "toc_cell": false,
   "toc_position": {},
   "toc_section_display": true,
   "toc_window_display": false
  },
  "varInspector": {
   "cols": {
    "lenName": 16,
    "lenType": 16,
    "lenVar": 40
   },
   "kernels_config": {
    "python": {
     "delete_cmd_postfix": "",
     "delete_cmd_prefix": "del ",
     "library": "var_list.py",
     "varRefreshCmd": "print(var_dic_list())"
    },
    "r": {
     "delete_cmd_postfix": ") ",
     "delete_cmd_prefix": "rm(",
     "library": "var_list.r",
     "varRefreshCmd": "cat(var_dic_list()) "
    }
   },
   "types_to_exclude": [
    "module",
    "function",
    "builtin_function_or_method",
    "instance",
    "_Feature"
   ],
   "window_display": false
  }
 },
 "nbformat": 4,
 "nbformat_minor": 4
}
